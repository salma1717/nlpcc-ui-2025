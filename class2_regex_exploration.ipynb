{
  "nbformat": 4,
  "nbformat_minor": 0,
  "metadata": {
    "colab": {
      "provenance": [],
      "authorship_tag": "ABX9TyPKHHMjDDBAq58fVNotwd10",
      "include_colab_link": true
    },
    "kernelspec": {
      "name": "python3",
      "display_name": "Python 3"
    },
    "language_info": {
      "name": "python"
    }
  },
  "cells": [
    {
      "cell_type": "markdown",
      "metadata": {
        "id": "view-in-github",
        "colab_type": "text"
      },
      "source": [
        "<a href=\"https://colab.research.google.com/github/salma1717/nlpcc-ui-2025/blob/main/class2_regex_exploration.ipynb\" target=\"_parent\"><img src=\"https://colab.research.google.com/assets/colab-badge.svg\" alt=\"Open In Colab\"/></a>"
      ]
    },
    {
      "cell_type": "code",
      "execution_count": null,
      "metadata": {
        "colab": {
          "base_uri": "https://localhost:8080/",
          "height": 74
        },
        "id": "h7Z7Mdsnaa5_",
        "outputId": "e0f7fd05-7cbf-4471-c7a7-2cec6257fff2"
      },
      "outputs": [
        {
          "output_type": "display_data",
          "data": {
            "text/plain": [
              "<IPython.core.display.HTML object>"
            ],
            "text/html": [
              "\n",
              "     <input type=\"file\" id=\"files-c721737b-fda6-4591-844b-b50d34f04d47\" name=\"files[]\" multiple disabled\n",
              "        style=\"border:none\" />\n",
              "     <output id=\"result-c721737b-fda6-4591-844b-b50d34f04d47\">\n",
              "      Upload widget is only available when the cell has been executed in the\n",
              "      current browser session. Please rerun this cell to enable.\n",
              "      </output>\n",
              "      <script>// Copyright 2017 Google LLC\n",
              "//\n",
              "// Licensed under the Apache License, Version 2.0 (the \"License\");\n",
              "// you may not use this file except in compliance with the License.\n",
              "// You may obtain a copy of the License at\n",
              "//\n",
              "//      http://www.apache.org/licenses/LICENSE-2.0\n",
              "//\n",
              "// Unless required by applicable law or agreed to in writing, software\n",
              "// distributed under the License is distributed on an \"AS IS\" BASIS,\n",
              "// WITHOUT WARRANTIES OR CONDITIONS OF ANY KIND, either express or implied.\n",
              "// See the License for the specific language governing permissions and\n",
              "// limitations under the License.\n",
              "\n",
              "/**\n",
              " * @fileoverview Helpers for google.colab Python module.\n",
              " */\n",
              "(function(scope) {\n",
              "function span(text, styleAttributes = {}) {\n",
              "  const element = document.createElement('span');\n",
              "  element.textContent = text;\n",
              "  for (const key of Object.keys(styleAttributes)) {\n",
              "    element.style[key] = styleAttributes[key];\n",
              "  }\n",
              "  return element;\n",
              "}\n",
              "\n",
              "// Max number of bytes which will be uploaded at a time.\n",
              "const MAX_PAYLOAD_SIZE = 100 * 1024;\n",
              "\n",
              "function _uploadFiles(inputId, outputId) {\n",
              "  const steps = uploadFilesStep(inputId, outputId);\n",
              "  const outputElement = document.getElementById(outputId);\n",
              "  // Cache steps on the outputElement to make it available for the next call\n",
              "  // to uploadFilesContinue from Python.\n",
              "  outputElement.steps = steps;\n",
              "\n",
              "  return _uploadFilesContinue(outputId);\n",
              "}\n",
              "\n",
              "// This is roughly an async generator (not supported in the browser yet),\n",
              "// where there are multiple asynchronous steps and the Python side is going\n",
              "// to poll for completion of each step.\n",
              "// This uses a Promise to block the python side on completion of each step,\n",
              "// then passes the result of the previous step as the input to the next step.\n",
              "function _uploadFilesContinue(outputId) {\n",
              "  const outputElement = document.getElementById(outputId);\n",
              "  const steps = outputElement.steps;\n",
              "\n",
              "  const next = steps.next(outputElement.lastPromiseValue);\n",
              "  return Promise.resolve(next.value.promise).then((value) => {\n",
              "    // Cache the last promise value to make it available to the next\n",
              "    // step of the generator.\n",
              "    outputElement.lastPromiseValue = value;\n",
              "    return next.value.response;\n",
              "  });\n",
              "}\n",
              "\n",
              "/**\n",
              " * Generator function which is called between each async step of the upload\n",
              " * process.\n",
              " * @param {string} inputId Element ID of the input file picker element.\n",
              " * @param {string} outputId Element ID of the output display.\n",
              " * @return {!Iterable<!Object>} Iterable of next steps.\n",
              " */\n",
              "function* uploadFilesStep(inputId, outputId) {\n",
              "  const inputElement = document.getElementById(inputId);\n",
              "  inputElement.disabled = false;\n",
              "\n",
              "  const outputElement = document.getElementById(outputId);\n",
              "  outputElement.innerHTML = '';\n",
              "\n",
              "  const pickedPromise = new Promise((resolve) => {\n",
              "    inputElement.addEventListener('change', (e) => {\n",
              "      resolve(e.target.files);\n",
              "    });\n",
              "  });\n",
              "\n",
              "  const cancel = document.createElement('button');\n",
              "  inputElement.parentElement.appendChild(cancel);\n",
              "  cancel.textContent = 'Cancel upload';\n",
              "  const cancelPromise = new Promise((resolve) => {\n",
              "    cancel.onclick = () => {\n",
              "      resolve(null);\n",
              "    };\n",
              "  });\n",
              "\n",
              "  // Wait for the user to pick the files.\n",
              "  const files = yield {\n",
              "    promise: Promise.race([pickedPromise, cancelPromise]),\n",
              "    response: {\n",
              "      action: 'starting',\n",
              "    }\n",
              "  };\n",
              "\n",
              "  cancel.remove();\n",
              "\n",
              "  // Disable the input element since further picks are not allowed.\n",
              "  inputElement.disabled = true;\n",
              "\n",
              "  if (!files) {\n",
              "    return {\n",
              "      response: {\n",
              "        action: 'complete',\n",
              "      }\n",
              "    };\n",
              "  }\n",
              "\n",
              "  for (const file of files) {\n",
              "    const li = document.createElement('li');\n",
              "    li.append(span(file.name, {fontWeight: 'bold'}));\n",
              "    li.append(span(\n",
              "        `(${file.type || 'n/a'}) - ${file.size} bytes, ` +\n",
              "        `last modified: ${\n",
              "            file.lastModifiedDate ? file.lastModifiedDate.toLocaleDateString() :\n",
              "                                    'n/a'} - `));\n",
              "    const percent = span('0% done');\n",
              "    li.appendChild(percent);\n",
              "\n",
              "    outputElement.appendChild(li);\n",
              "\n",
              "    const fileDataPromise = new Promise((resolve) => {\n",
              "      const reader = new FileReader();\n",
              "      reader.onload = (e) => {\n",
              "        resolve(e.target.result);\n",
              "      };\n",
              "      reader.readAsArrayBuffer(file);\n",
              "    });\n",
              "    // Wait for the data to be ready.\n",
              "    let fileData = yield {\n",
              "      promise: fileDataPromise,\n",
              "      response: {\n",
              "        action: 'continue',\n",
              "      }\n",
              "    };\n",
              "\n",
              "    // Use a chunked sending to avoid message size limits. See b/62115660.\n",
              "    let position = 0;\n",
              "    do {\n",
              "      const length = Math.min(fileData.byteLength - position, MAX_PAYLOAD_SIZE);\n",
              "      const chunk = new Uint8Array(fileData, position, length);\n",
              "      position += length;\n",
              "\n",
              "      const base64 = btoa(String.fromCharCode.apply(null, chunk));\n",
              "      yield {\n",
              "        response: {\n",
              "          action: 'append',\n",
              "          file: file.name,\n",
              "          data: base64,\n",
              "        },\n",
              "      };\n",
              "\n",
              "      let percentDone = fileData.byteLength === 0 ?\n",
              "          100 :\n",
              "          Math.round((position / fileData.byteLength) * 100);\n",
              "      percent.textContent = `${percentDone}% done`;\n",
              "\n",
              "    } while (position < fileData.byteLength);\n",
              "  }\n",
              "\n",
              "  // All done.\n",
              "  yield {\n",
              "    response: {\n",
              "      action: 'complete',\n",
              "    }\n",
              "  };\n",
              "}\n",
              "\n",
              "scope.google = scope.google || {};\n",
              "scope.google.colab = scope.google.colab || {};\n",
              "scope.google.colab._files = {\n",
              "  _uploadFiles,\n",
              "  _uploadFilesContinue,\n",
              "};\n",
              "})(self);\n",
              "</script> "
            ]
          },
          "metadata": {}
        },
        {
          "output_type": "stream",
          "name": "stdout",
          "text": [
            "Saving ted_talks.zip to ted_talks.zip\n"
          ]
        }
      ],
      "source": [
        "from google.colab import files\n",
        "uploaded = files.upload()"
      ]
    },
    {
      "cell_type": "code",
      "source": [
        "import os\n",
        "os.listdir()"
      ],
      "metadata": {
        "colab": {
          "base_uri": "https://localhost:8080/"
        },
        "id": "c3MoI2ztbCxy",
        "outputId": "32877472-ad13-4c28-f55d-9f65e8580a32"
      },
      "execution_count": null,
      "outputs": [
        {
          "output_type": "execute_result",
          "data": {
            "text/plain": [
              "['.config', 'ted_talks.zip', 'sample_data']"
            ]
          },
          "metadata": {},
          "execution_count": 2
        }
      ]
    },
    {
      "cell_type": "code",
      "source": [
        "import zipfile\n",
        "\n",
        "with zipfile.ZipFile(\"ted_talks.zip\", 'r') as zip_ref:\n",
        "    zip_ref.extractall(\"ted_talks\")  # diekstrak ke folder 'ted_talks'"
      ],
      "metadata": {
        "id": "F-kPsFQobeqr"
      },
      "execution_count": null,
      "outputs": []
    },
    {
      "cell_type": "code",
      "source": [
        "# Cek isi folder hasil ekstraksi\n",
        "os.listdir(\"ted_talks\")"
      ],
      "metadata": {
        "colab": {
          "base_uri": "https://localhost:8080/"
        },
        "id": "FrrDuzPHcjvN",
        "outputId": "a7b74710-fe2b-411b-dd15-8ff57479b505"
      },
      "execution_count": null,
      "outputs": [
        {
          "output_type": "execute_result",
          "data": {
            "text/plain": [
              "['transcripts.csv', 'ted_main.csv']"
            ]
          },
          "metadata": {},
          "execution_count": 10
        }
      ]
    },
    {
      "cell_type": "code",
      "source": [
        "df = pd.read_csv(\"ted_talks/ted_main.csv\")  # tambahkan 'ted_talks/' di depan\n",
        "df.head()"
      ],
      "metadata": {
        "colab": {
          "base_uri": "https://localhost:8080/",
          "height": 608
        },
        "id": "R-_OaZt_c4c2",
        "outputId": "59256568-8ad1-4d22-fec3-45b329750cc3"
      },
      "execution_count": null,
      "outputs": [
        {
          "output_type": "execute_result",
          "data": {
            "text/plain": [
              "   comments                                        description  duration  \\\n",
              "0      4553  Sir Ken Robinson makes an entertaining and pro...      1164   \n",
              "1       265  With the same humor and humanity he exuded in ...       977   \n",
              "2       124  New York Times columnist David Pogue takes aim...      1286   \n",
              "3       200  In an emotionally charged talk, MacArthur-winn...      1116   \n",
              "4       593  You've never seen data presented like this. Wi...      1190   \n",
              "\n",
              "     event   film_date  languages   main_speaker  \\\n",
              "0  TED2006  1140825600         60   Ken Robinson   \n",
              "1  TED2006  1140825600         43        Al Gore   \n",
              "2  TED2006  1140739200         26    David Pogue   \n",
              "3  TED2006  1140912000         35  Majora Carter   \n",
              "4  TED2006  1140566400         48   Hans Rosling   \n",
              "\n",
              "                                            name  num_speaker  published_date  \\\n",
              "0      Ken Robinson: Do schools kill creativity?            1      1151367060   \n",
              "1           Al Gore: Averting the climate crisis            1      1151367060   \n",
              "2                  David Pogue: Simplicity sells            1      1151367060   \n",
              "3             Majora Carter: Greening the ghetto            1      1151367060   \n",
              "4  Hans Rosling: The best stats you've ever seen            1      1151440680   \n",
              "\n",
              "                                             ratings  \\\n",
              "0  [{'id': 7, 'name': 'Funny', 'count': 19645}, {...   \n",
              "1  [{'id': 7, 'name': 'Funny', 'count': 544}, {'i...   \n",
              "2  [{'id': 7, 'name': 'Funny', 'count': 964}, {'i...   \n",
              "3  [{'id': 3, 'name': 'Courageous', 'count': 760}...   \n",
              "4  [{'id': 9, 'name': 'Ingenious', 'count': 3202}...   \n",
              "\n",
              "                                       related_talks  \\\n",
              "0  [{'id': 865, 'hero': 'https://pe.tedcdn.com/im...   \n",
              "1  [{'id': 243, 'hero': 'https://pe.tedcdn.com/im...   \n",
              "2  [{'id': 1725, 'hero': 'https://pe.tedcdn.com/i...   \n",
              "3  [{'id': 1041, 'hero': 'https://pe.tedcdn.com/i...   \n",
              "4  [{'id': 2056, 'hero': 'https://pe.tedcdn.com/i...   \n",
              "\n",
              "                     speaker_occupation  \\\n",
              "0                       Author/educator   \n",
              "1                      Climate advocate   \n",
              "2                  Technology columnist   \n",
              "3    Activist for environmental justice   \n",
              "4  Global health expert; data visionary   \n",
              "\n",
              "                                                tags  \\\n",
              "0  ['children', 'creativity', 'culture', 'dance',...   \n",
              "1  ['alternative energy', 'cars', 'climate change...   \n",
              "2  ['computers', 'entertainment', 'interface desi...   \n",
              "3  ['MacArthur grant', 'activism', 'business', 'c...   \n",
              "4  ['Africa', 'Asia', 'Google', 'demo', 'economic...   \n",
              "\n",
              "                             title  \\\n",
              "0      Do schools kill creativity?   \n",
              "1      Averting the climate crisis   \n",
              "2                 Simplicity sells   \n",
              "3              Greening the ghetto   \n",
              "4  The best stats you've ever seen   \n",
              "\n",
              "                                                 url     views  \n",
              "0  https://www.ted.com/talks/ken_robinson_says_sc...  47227110  \n",
              "1  https://www.ted.com/talks/al_gore_on_averting_...   3200520  \n",
              "2  https://www.ted.com/talks/david_pogue_says_sim...   1636292  \n",
              "3  https://www.ted.com/talks/majora_carter_s_tale...   1697550  \n",
              "4  https://www.ted.com/talks/hans_rosling_shows_t...  12005869  "
            ],
            "text/html": [
              "\n",
              "  <div id=\"df-af73c079-3f40-4cf1-8ffb-8fe3386913da\" class=\"colab-df-container\">\n",
              "    <div>\n",
              "<style scoped>\n",
              "    .dataframe tbody tr th:only-of-type {\n",
              "        vertical-align: middle;\n",
              "    }\n",
              "\n",
              "    .dataframe tbody tr th {\n",
              "        vertical-align: top;\n",
              "    }\n",
              "\n",
              "    .dataframe thead th {\n",
              "        text-align: right;\n",
              "    }\n",
              "</style>\n",
              "<table border=\"1\" class=\"dataframe\">\n",
              "  <thead>\n",
              "    <tr style=\"text-align: right;\">\n",
              "      <th></th>\n",
              "      <th>comments</th>\n",
              "      <th>description</th>\n",
              "      <th>duration</th>\n",
              "      <th>event</th>\n",
              "      <th>film_date</th>\n",
              "      <th>languages</th>\n",
              "      <th>main_speaker</th>\n",
              "      <th>name</th>\n",
              "      <th>num_speaker</th>\n",
              "      <th>published_date</th>\n",
              "      <th>ratings</th>\n",
              "      <th>related_talks</th>\n",
              "      <th>speaker_occupation</th>\n",
              "      <th>tags</th>\n",
              "      <th>title</th>\n",
              "      <th>url</th>\n",
              "      <th>views</th>\n",
              "    </tr>\n",
              "  </thead>\n",
              "  <tbody>\n",
              "    <tr>\n",
              "      <th>0</th>\n",
              "      <td>4553</td>\n",
              "      <td>Sir Ken Robinson makes an entertaining and pro...</td>\n",
              "      <td>1164</td>\n",
              "      <td>TED2006</td>\n",
              "      <td>1140825600</td>\n",
              "      <td>60</td>\n",
              "      <td>Ken Robinson</td>\n",
              "      <td>Ken Robinson: Do schools kill creativity?</td>\n",
              "      <td>1</td>\n",
              "      <td>1151367060</td>\n",
              "      <td>[{'id': 7, 'name': 'Funny', 'count': 19645}, {...</td>\n",
              "      <td>[{'id': 865, 'hero': 'https://pe.tedcdn.com/im...</td>\n",
              "      <td>Author/educator</td>\n",
              "      <td>['children', 'creativity', 'culture', 'dance',...</td>\n",
              "      <td>Do schools kill creativity?</td>\n",
              "      <td>https://www.ted.com/talks/ken_robinson_says_sc...</td>\n",
              "      <td>47227110</td>\n",
              "    </tr>\n",
              "    <tr>\n",
              "      <th>1</th>\n",
              "      <td>265</td>\n",
              "      <td>With the same humor and humanity he exuded in ...</td>\n",
              "      <td>977</td>\n",
              "      <td>TED2006</td>\n",
              "      <td>1140825600</td>\n",
              "      <td>43</td>\n",
              "      <td>Al Gore</td>\n",
              "      <td>Al Gore: Averting the climate crisis</td>\n",
              "      <td>1</td>\n",
              "      <td>1151367060</td>\n",
              "      <td>[{'id': 7, 'name': 'Funny', 'count': 544}, {'i...</td>\n",
              "      <td>[{'id': 243, 'hero': 'https://pe.tedcdn.com/im...</td>\n",
              "      <td>Climate advocate</td>\n",
              "      <td>['alternative energy', 'cars', 'climate change...</td>\n",
              "      <td>Averting the climate crisis</td>\n",
              "      <td>https://www.ted.com/talks/al_gore_on_averting_...</td>\n",
              "      <td>3200520</td>\n",
              "    </tr>\n",
              "    <tr>\n",
              "      <th>2</th>\n",
              "      <td>124</td>\n",
              "      <td>New York Times columnist David Pogue takes aim...</td>\n",
              "      <td>1286</td>\n",
              "      <td>TED2006</td>\n",
              "      <td>1140739200</td>\n",
              "      <td>26</td>\n",
              "      <td>David Pogue</td>\n",
              "      <td>David Pogue: Simplicity sells</td>\n",
              "      <td>1</td>\n",
              "      <td>1151367060</td>\n",
              "      <td>[{'id': 7, 'name': 'Funny', 'count': 964}, {'i...</td>\n",
              "      <td>[{'id': 1725, 'hero': 'https://pe.tedcdn.com/i...</td>\n",
              "      <td>Technology columnist</td>\n",
              "      <td>['computers', 'entertainment', 'interface desi...</td>\n",
              "      <td>Simplicity sells</td>\n",
              "      <td>https://www.ted.com/talks/david_pogue_says_sim...</td>\n",
              "      <td>1636292</td>\n",
              "    </tr>\n",
              "    <tr>\n",
              "      <th>3</th>\n",
              "      <td>200</td>\n",
              "      <td>In an emotionally charged talk, MacArthur-winn...</td>\n",
              "      <td>1116</td>\n",
              "      <td>TED2006</td>\n",
              "      <td>1140912000</td>\n",
              "      <td>35</td>\n",
              "      <td>Majora Carter</td>\n",
              "      <td>Majora Carter: Greening the ghetto</td>\n",
              "      <td>1</td>\n",
              "      <td>1151367060</td>\n",
              "      <td>[{'id': 3, 'name': 'Courageous', 'count': 760}...</td>\n",
              "      <td>[{'id': 1041, 'hero': 'https://pe.tedcdn.com/i...</td>\n",
              "      <td>Activist for environmental justice</td>\n",
              "      <td>['MacArthur grant', 'activism', 'business', 'c...</td>\n",
              "      <td>Greening the ghetto</td>\n",
              "      <td>https://www.ted.com/talks/majora_carter_s_tale...</td>\n",
              "      <td>1697550</td>\n",
              "    </tr>\n",
              "    <tr>\n",
              "      <th>4</th>\n",
              "      <td>593</td>\n",
              "      <td>You've never seen data presented like this. Wi...</td>\n",
              "      <td>1190</td>\n",
              "      <td>TED2006</td>\n",
              "      <td>1140566400</td>\n",
              "      <td>48</td>\n",
              "      <td>Hans Rosling</td>\n",
              "      <td>Hans Rosling: The best stats you've ever seen</td>\n",
              "      <td>1</td>\n",
              "      <td>1151440680</td>\n",
              "      <td>[{'id': 9, 'name': 'Ingenious', 'count': 3202}...</td>\n",
              "      <td>[{'id': 2056, 'hero': 'https://pe.tedcdn.com/i...</td>\n",
              "      <td>Global health expert; data visionary</td>\n",
              "      <td>['Africa', 'Asia', 'Google', 'demo', 'economic...</td>\n",
              "      <td>The best stats you've ever seen</td>\n",
              "      <td>https://www.ted.com/talks/hans_rosling_shows_t...</td>\n",
              "      <td>12005869</td>\n",
              "    </tr>\n",
              "  </tbody>\n",
              "</table>\n",
              "</div>\n",
              "    <div class=\"colab-df-buttons\">\n",
              "\n",
              "  <div class=\"colab-df-container\">\n",
              "    <button class=\"colab-df-convert\" onclick=\"convertToInteractive('df-af73c079-3f40-4cf1-8ffb-8fe3386913da')\"\n",
              "            title=\"Convert this dataframe to an interactive table.\"\n",
              "            style=\"display:none;\">\n",
              "\n",
              "  <svg xmlns=\"http://www.w3.org/2000/svg\" height=\"24px\" viewBox=\"0 -960 960 960\">\n",
              "    <path d=\"M120-120v-720h720v720H120Zm60-500h600v-160H180v160Zm220 220h160v-160H400v160Zm0 220h160v-160H400v160ZM180-400h160v-160H180v160Zm440 0h160v-160H620v160ZM180-180h160v-160H180v160Zm440 0h160v-160H620v160Z\"/>\n",
              "  </svg>\n",
              "    </button>\n",
              "\n",
              "  <style>\n",
              "    .colab-df-container {\n",
              "      display:flex;\n",
              "      gap: 12px;\n",
              "    }\n",
              "\n",
              "    .colab-df-convert {\n",
              "      background-color: #E8F0FE;\n",
              "      border: none;\n",
              "      border-radius: 50%;\n",
              "      cursor: pointer;\n",
              "      display: none;\n",
              "      fill: #1967D2;\n",
              "      height: 32px;\n",
              "      padding: 0 0 0 0;\n",
              "      width: 32px;\n",
              "    }\n",
              "\n",
              "    .colab-df-convert:hover {\n",
              "      background-color: #E2EBFA;\n",
              "      box-shadow: 0px 1px 2px rgba(60, 64, 67, 0.3), 0px 1px 3px 1px rgba(60, 64, 67, 0.15);\n",
              "      fill: #174EA6;\n",
              "    }\n",
              "\n",
              "    .colab-df-buttons div {\n",
              "      margin-bottom: 4px;\n",
              "    }\n",
              "\n",
              "    [theme=dark] .colab-df-convert {\n",
              "      background-color: #3B4455;\n",
              "      fill: #D2E3FC;\n",
              "    }\n",
              "\n",
              "    [theme=dark] .colab-df-convert:hover {\n",
              "      background-color: #434B5C;\n",
              "      box-shadow: 0px 1px 3px 1px rgba(0, 0, 0, 0.15);\n",
              "      filter: drop-shadow(0px 1px 2px rgba(0, 0, 0, 0.3));\n",
              "      fill: #FFFFFF;\n",
              "    }\n",
              "  </style>\n",
              "\n",
              "    <script>\n",
              "      const buttonEl =\n",
              "        document.querySelector('#df-af73c079-3f40-4cf1-8ffb-8fe3386913da button.colab-df-convert');\n",
              "      buttonEl.style.display =\n",
              "        google.colab.kernel.accessAllowed ? 'block' : 'none';\n",
              "\n",
              "      async function convertToInteractive(key) {\n",
              "        const element = document.querySelector('#df-af73c079-3f40-4cf1-8ffb-8fe3386913da');\n",
              "        const dataTable =\n",
              "          await google.colab.kernel.invokeFunction('convertToInteractive',\n",
              "                                                    [key], {});\n",
              "        if (!dataTable) return;\n",
              "\n",
              "        const docLinkHtml = 'Like what you see? Visit the ' +\n",
              "          '<a target=\"_blank\" href=https://colab.research.google.com/notebooks/data_table.ipynb>data table notebook</a>'\n",
              "          + ' to learn more about interactive tables.';\n",
              "        element.innerHTML = '';\n",
              "        dataTable['output_type'] = 'display_data';\n",
              "        await google.colab.output.renderOutput(dataTable, element);\n",
              "        const docLink = document.createElement('div');\n",
              "        docLink.innerHTML = docLinkHtml;\n",
              "        element.appendChild(docLink);\n",
              "      }\n",
              "    </script>\n",
              "  </div>\n",
              "\n",
              "\n",
              "    <div id=\"df-df3dfce2-f580-42de-a231-855127a02502\">\n",
              "      <button class=\"colab-df-quickchart\" onclick=\"quickchart('df-df3dfce2-f580-42de-a231-855127a02502')\"\n",
              "                title=\"Suggest charts\"\n",
              "                style=\"display:none;\">\n",
              "\n",
              "<svg xmlns=\"http://www.w3.org/2000/svg\" height=\"24px\"viewBox=\"0 0 24 24\"\n",
              "     width=\"24px\">\n",
              "    <g>\n",
              "        <path d=\"M19 3H5c-1.1 0-2 .9-2 2v14c0 1.1.9 2 2 2h14c1.1 0 2-.9 2-2V5c0-1.1-.9-2-2-2zM9 17H7v-7h2v7zm4 0h-2V7h2v10zm4 0h-2v-4h2v4z\"/>\n",
              "    </g>\n",
              "</svg>\n",
              "      </button>\n",
              "\n",
              "<style>\n",
              "  .colab-df-quickchart {\n",
              "      --bg-color: #E8F0FE;\n",
              "      --fill-color: #1967D2;\n",
              "      --hover-bg-color: #E2EBFA;\n",
              "      --hover-fill-color: #174EA6;\n",
              "      --disabled-fill-color: #AAA;\n",
              "      --disabled-bg-color: #DDD;\n",
              "  }\n",
              "\n",
              "  [theme=dark] .colab-df-quickchart {\n",
              "      --bg-color: #3B4455;\n",
              "      --fill-color: #D2E3FC;\n",
              "      --hover-bg-color: #434B5C;\n",
              "      --hover-fill-color: #FFFFFF;\n",
              "      --disabled-bg-color: #3B4455;\n",
              "      --disabled-fill-color: #666;\n",
              "  }\n",
              "\n",
              "  .colab-df-quickchart {\n",
              "    background-color: var(--bg-color);\n",
              "    border: none;\n",
              "    border-radius: 50%;\n",
              "    cursor: pointer;\n",
              "    display: none;\n",
              "    fill: var(--fill-color);\n",
              "    height: 32px;\n",
              "    padding: 0;\n",
              "    width: 32px;\n",
              "  }\n",
              "\n",
              "  .colab-df-quickchart:hover {\n",
              "    background-color: var(--hover-bg-color);\n",
              "    box-shadow: 0 1px 2px rgba(60, 64, 67, 0.3), 0 1px 3px 1px rgba(60, 64, 67, 0.15);\n",
              "    fill: var(--button-hover-fill-color);\n",
              "  }\n",
              "\n",
              "  .colab-df-quickchart-complete:disabled,\n",
              "  .colab-df-quickchart-complete:disabled:hover {\n",
              "    background-color: var(--disabled-bg-color);\n",
              "    fill: var(--disabled-fill-color);\n",
              "    box-shadow: none;\n",
              "  }\n",
              "\n",
              "  .colab-df-spinner {\n",
              "    border: 2px solid var(--fill-color);\n",
              "    border-color: transparent;\n",
              "    border-bottom-color: var(--fill-color);\n",
              "    animation:\n",
              "      spin 1s steps(1) infinite;\n",
              "  }\n",
              "\n",
              "  @keyframes spin {\n",
              "    0% {\n",
              "      border-color: transparent;\n",
              "      border-bottom-color: var(--fill-color);\n",
              "      border-left-color: var(--fill-color);\n",
              "    }\n",
              "    20% {\n",
              "      border-color: transparent;\n",
              "      border-left-color: var(--fill-color);\n",
              "      border-top-color: var(--fill-color);\n",
              "    }\n",
              "    30% {\n",
              "      border-color: transparent;\n",
              "      border-left-color: var(--fill-color);\n",
              "      border-top-color: var(--fill-color);\n",
              "      border-right-color: var(--fill-color);\n",
              "    }\n",
              "    40% {\n",
              "      border-color: transparent;\n",
              "      border-right-color: var(--fill-color);\n",
              "      border-top-color: var(--fill-color);\n",
              "    }\n",
              "    60% {\n",
              "      border-color: transparent;\n",
              "      border-right-color: var(--fill-color);\n",
              "    }\n",
              "    80% {\n",
              "      border-color: transparent;\n",
              "      border-right-color: var(--fill-color);\n",
              "      border-bottom-color: var(--fill-color);\n",
              "    }\n",
              "    90% {\n",
              "      border-color: transparent;\n",
              "      border-bottom-color: var(--fill-color);\n",
              "    }\n",
              "  }\n",
              "</style>\n",
              "\n",
              "      <script>\n",
              "        async function quickchart(key) {\n",
              "          const quickchartButtonEl =\n",
              "            document.querySelector('#' + key + ' button');\n",
              "          quickchartButtonEl.disabled = true;  // To prevent multiple clicks.\n",
              "          quickchartButtonEl.classList.add('colab-df-spinner');\n",
              "          try {\n",
              "            const charts = await google.colab.kernel.invokeFunction(\n",
              "                'suggestCharts', [key], {});\n",
              "          } catch (error) {\n",
              "            console.error('Error during call to suggestCharts:', error);\n",
              "          }\n",
              "          quickchartButtonEl.classList.remove('colab-df-spinner');\n",
              "          quickchartButtonEl.classList.add('colab-df-quickchart-complete');\n",
              "        }\n",
              "        (() => {\n",
              "          let quickchartButtonEl =\n",
              "            document.querySelector('#df-df3dfce2-f580-42de-a231-855127a02502 button');\n",
              "          quickchartButtonEl.style.display =\n",
              "            google.colab.kernel.accessAllowed ? 'block' : 'none';\n",
              "        })();\n",
              "      </script>\n",
              "    </div>\n",
              "\n",
              "    </div>\n",
              "  </div>\n"
            ],
            "application/vnd.google.colaboratory.intrinsic+json": {
              "type": "dataframe",
              "variable_name": "df",
              "summary": "{\n  \"name\": \"df\",\n  \"rows\": 2550,\n  \"fields\": [\n    {\n      \"column\": \"comments\",\n      \"properties\": {\n        \"dtype\": \"number\",\n        \"std\": 282,\n        \"min\": 2,\n        \"max\": 6404,\n        \"num_unique_values\": 559,\n        \"samples\": [\n          534,\n          217,\n          91\n        ],\n        \"semantic_type\": \"\",\n        \"description\": \"\"\n      }\n    },\n    {\n      \"column\": \"description\",\n      \"properties\": {\n        \"dtype\": \"string\",\n        \"num_unique_values\": 2550,\n        \"samples\": [\n          \"Author Steven Johnson takes us on a 10-minute tour of <i>The Ghost Map</i>, his book about a cholera outbreak in 1854 London and the impact it had on science, cities and modern society.\",\n          \"Illustrious jugglers the Raspyni Brothers show off their uncanny balance, agility, coordination and willingness to sacrifice (others). Now, if you'll just stand completely still...\",\n          \"Half of the world's poorest people have something in common: they're small farmers. In this eye-opening talk, activist Andrew Youn shows how his group, One Acre Fund, is helping these farmers lift themselves out of poverty by delivering to them life-sustaining farm services that are already in use all over the world. Enter this talk believing we'll never be able to solve hunger and extreme poverty, and leave it with a new understanding of the scale of the world's biggest problems.\"\n        ],\n        \"semantic_type\": \"\",\n        \"description\": \"\"\n      }\n    },\n    {\n      \"column\": \"duration\",\n      \"properties\": {\n        \"dtype\": \"number\",\n        \"std\": 374,\n        \"min\": 135,\n        \"max\": 5256,\n        \"num_unique_values\": 1083,\n        \"samples\": [\n          1141,\n          366,\n          1053\n        ],\n        \"semantic_type\": \"\",\n        \"description\": \"\"\n      }\n    },\n    {\n      \"column\": \"event\",\n      \"properties\": {\n        \"dtype\": \"category\",\n        \"num_unique_values\": 355,\n        \"samples\": [\n          \"TEDxTokyo\",\n          \"Royal Institution\",\n          \"TEDxColumbus\"\n        ],\n        \"semantic_type\": \"\",\n        \"description\": \"\"\n      }\n    },\n    {\n      \"column\": \"film_date\",\n      \"properties\": {\n        \"dtype\": \"number\",\n        \"std\": 119739059,\n        \"min\": 74649600,\n        \"max\": 1503792000,\n        \"num_unique_values\": 735,\n        \"samples\": [\n          1381968000,\n          1141344000,\n          1315180800\n        ],\n        \"semantic_type\": \"\",\n        \"description\": \"\"\n      }\n    },\n    {\n      \"column\": \"languages\",\n      \"properties\": {\n        \"dtype\": \"number\",\n        \"std\": 9,\n        \"min\": 0,\n        \"max\": 72,\n        \"num_unique_values\": 66,\n        \"samples\": [\n          10,\n          6,\n          60\n        ],\n        \"semantic_type\": \"\",\n        \"description\": \"\"\n      }\n    },\n    {\n      \"column\": \"main_speaker\",\n      \"properties\": {\n        \"dtype\": \"string\",\n        \"num_unique_values\": 2156,\n        \"samples\": [\n          \"David McCandless\",\n          \"Catherine Bracy\",\n          \"Christopher deCharms\"\n        ],\n        \"semantic_type\": \"\",\n        \"description\": \"\"\n      }\n    },\n    {\n      \"column\": \"name\",\n      \"properties\": {\n        \"dtype\": \"string\",\n        \"num_unique_values\": 2550,\n        \"samples\": [\n          \"Steven Johnson: How the \\\"ghost map\\\" helped end a killer disease\",\n          \"Raspyni Brothers: Juggle and jest\",\n          \"Andrew Youn: 3 reasons why we can win the fight against poverty\"\n        ],\n        \"semantic_type\": \"\",\n        \"description\": \"\"\n      }\n    },\n    {\n      \"column\": \"num_speaker\",\n      \"properties\": {\n        \"dtype\": \"number\",\n        \"std\": 0,\n        \"min\": 1,\n        \"max\": 5,\n        \"num_unique_values\": 5,\n        \"samples\": [\n          2,\n          5,\n          3\n        ],\n        \"semantic_type\": \"\",\n        \"description\": \"\"\n      }\n    },\n    {\n      \"column\": \"published_date\",\n      \"properties\": {\n        \"dtype\": \"number\",\n        \"std\": 94640090,\n        \"min\": 1151367060,\n        \"max\": 1506092422,\n        \"num_unique_values\": 2490,\n        \"samples\": [\n          1326908851,\n          1255683060,\n          1318432631\n        ],\n        \"semantic_type\": \"\",\n        \"description\": \"\"\n      }\n    },\n    {\n      \"column\": \"ratings\",\n      \"properties\": {\n        \"dtype\": \"string\",\n        \"num_unique_values\": 2550,\n        \"samples\": [\n          \"[{'id': 10, 'name': 'Inspiring', 'count': 94}, {'id': 8, 'name': 'Informative', 'count': 384}, {'id': 22, 'name': 'Fascinating', 'count': 201}, {'id': 9, 'name': 'Ingenious', 'count': 26}, {'id': 1, 'name': 'Beautiful', 'count': 13}, {'id': 25, 'name': 'OK', 'count': 66}, {'id': 11, 'name': 'Longwinded', 'count': 9}, {'id': 24, 'name': 'Persuasive', 'count': 72}, {'id': 7, 'name': 'Funny', 'count': 20}, {'id': 23, 'name': 'Jaw-dropping', 'count': 11}, {'id': 3, 'name': 'Courageous', 'count': 10}, {'id': 21, 'name': 'Unconvincing', 'count': 5}, {'id': 26, 'name': 'Obnoxious', 'count': 2}, {'id': 2, 'name': 'Confusing', 'count': 5}]\",\n          \"[{'id': 23, 'name': 'Jaw-dropping', 'count': 402}, {'id': 7, 'name': 'Funny', 'count': 1637}, {'id': 1, 'name': 'Beautiful', 'count': 59}, {'id': 22, 'name': 'Fascinating', 'count': 267}, {'id': 9, 'name': 'Ingenious', 'count': 116}, {'id': 21, 'name': 'Unconvincing', 'count': 15}, {'id': 10, 'name': 'Inspiring', 'count': 57}, {'id': 25, 'name': 'OK', 'count': 126}, {'id': 3, 'name': 'Courageous', 'count': 72}, {'id': 24, 'name': 'Persuasive', 'count': 14}, {'id': 26, 'name': 'Obnoxious', 'count': 52}, {'id': 11, 'name': 'Longwinded', 'count': 56}, {'id': 8, 'name': 'Informative', 'count': 9}, {'id': 2, 'name': 'Confusing', 'count': 6}]\",\n          \"[{'id': 9, 'name': 'Ingenious', 'count': 147}, {'id': 10, 'name': 'Inspiring', 'count': 585}, {'id': 24, 'name': 'Persuasive', 'count': 316}, {'id': 23, 'name': 'Jaw-dropping', 'count': 68}, {'id': 8, 'name': 'Informative', 'count': 310}, {'id': 3, 'name': 'Courageous', 'count': 159}, {'id': 21, 'name': 'Unconvincing', 'count': 23}, {'id': 1, 'name': 'Beautiful', 'count': 110}, {'id': 2, 'name': 'Confusing', 'count': 2}, {'id': 11, 'name': 'Longwinded', 'count': 2}, {'id': 26, 'name': 'Obnoxious', 'count': 5}, {'id': 25, 'name': 'OK', 'count': 25}, {'id': 22, 'name': 'Fascinating', 'count': 136}, {'id': 7, 'name': 'Funny', 'count': 10}]\"\n        ],\n        \"semantic_type\": \"\",\n        \"description\": \"\"\n      }\n    },\n    {\n      \"column\": \"related_talks\",\n      \"properties\": {\n        \"dtype\": \"string\",\n        \"num_unique_values\": 2550,\n        \"samples\": [\n          \"[{'id': 58, 'hero': 'https://pe.tedcdn.com/images/ted/bed12c43ac6ac86503e7734a4655a47bacd2348f_1600x1200.jpg', 'speaker': 'Larry Brilliant', 'title': 'My wish: Help me stop pandemics', 'duration': 1550, 'slug': 'larry_brilliant_wants_to_stop_pandemics', 'viewed_count': 693342}, {'id': 29, 'hero': 'https://pe.tedcdn.com/images/ted/d0690bb3573f5127b79ff97e33bedade25158e9a_1600x1200.jpg', 'speaker': 'Steven Levitt', 'title': 'The freakonomics of crack dealing', 'duration': 1275, 'slug': 'steven_levitt_analyzes_crack_economics', 'viewed_count': 2863215}, {'id': 20, 'hero': 'https://pe.tedcdn.com/images/ted/46f08b057c280fb6e471b1003bb9a78078c394ed_2880x1620.jpg', 'speaker': 'Malcolm Gladwell', 'title': 'Choice, happiness and spaghetti sauce', 'duration': 1050, 'slug': 'malcolm_gladwell_on_spaghetti_sauce', 'viewed_count': 7023567}, {'id': 1582, 'hero': 'https://pe.tedcdn.com/images/ted/e9baebea40cbe9c1a26f6edd57f0833e4bb90aef_1600x1200.jpg', 'speaker': 'Aris Venetikidis', 'title': 'Making sense of maps', 'duration': 996, 'slug': 'aris_venetikidis_making_sense_of_maps', 'viewed_count': 661519}, {'id': 655, 'hero': 'https://pe.tedcdn.com/images/ted/121586_800x600.jpg', 'speaker': 'Eric Sanderson', 'title': 'New York -- before the City', 'duration': 969, 'slug': 'eric_sanderson_pictures_new_york_before_the_city', 'viewed_count': 1431250}, {'id': 2591, 'hero': 'https://pe.tedcdn.com/images/ted/301bdae5c984d0116ec5aca92151f6626b674747_2880x1620.jpg', 'speaker': 'Danny Dorling', 'title': 'Maps that show us who we are (not just where we are)', 'duration': 847, 'slug': 'danny_dorling_maps_that_show_us_who_we_are_not_just_where_we_are', 'viewed_count': 1384828}]\",\n          \"[{'id': 179, 'hero': 'https://pe.tedcdn.com/images/ted/16705_480x360.jpg', 'speaker': 'Kenichi Ebina', 'title': 'My magic moves', 'duration': 212, 'slug': 'kenichi_ebina_s_magic_moves', 'viewed_count': 1720596}, {'id': 310, 'hero': 'https://pe.tedcdn.com/images/ted/ca1e26fd8ec5793c6bf2d1519700babd038c71c7_1600x1200.jpg', 'speaker': 'Keith Barry', 'title': 'Brain magic', 'duration': 1189, 'slug': 'keith_barry_does_brain_magic', 'viewed_count': 13327095}, {'id': 260, 'hero': 'https://pe.tedcdn.com/images/ted/41100_480x360.jpg', 'speaker': 'Michael Moschen', 'title': 'Juggling as art ... and science', 'duration': 2222, 'slug': 'michael_moschen_juggles_rhythm_and_motion', 'viewed_count': 944835}, {'id': 1235, 'hero': 'https://pe.tedcdn.com/images/ted/57c5ee2c30e9eb479a9f16ac1b7aaee07b639f39_800x600.jpg', 'speaker': 'Danielle de Niese', 'title': 'A flirtatious aria', 'duration': 355, 'slug': 'danielle_de_niese_a_flirtatious_aria', 'viewed_count': 787081}, {'id': 1962, 'hero': 'https://pe.tedcdn.com/images/ted/cfa8ec527e9bb37dca7d5513ab829f25c246b52d_1600x1200.jpg', 'speaker': 'TED staff', 'title': \\\"It's TED, the Musical\\\", 'duration': 277, 'slug': 'daffodil_hudson_is_this_the_cure_for_stage_fright', 'viewed_count': 741114}, {'id': 1456, 'hero': 'https://pe.tedcdn.com/images/ted/84824f713203286c5a61364f3791e467a03465c6_1600x1200.jpg', 'speaker': 'Philippe Petit', 'title': 'The journey across the high wire', 'duration': 1147, 'slug': 'philippe_petit_the_journey_across_the_high_wire', 'viewed_count': 640723}]\",\n          \"[{'id': 2328, 'hero': 'https://pe.tedcdn.com/images/ted/f41945e3407663d5a41b5843f2a5a499e2305147_2880x1620.jpg', 'speaker': 'Mia Birdsong', 'title': \\\"The story we tell about poverty isn't true\\\", 'duration': 916, 'slug': 'mia_birdsong_the_story_we_tell_about_poverty_isn_t_true', 'viewed_count': 1612568}, {'id': 2412, 'hero': 'https://pe.tedcdn.com/images/ted/f6ea7d93d179a56189d567a7d6d508492ca85f4b_2880x1620.jpg', 'speaker': 'Jill Farrant', 'title': 'How we can make crops survive without water', 'duration': 836, 'slug': 'jill_farrant_how_we_can_make_crops_survive_without_water', 'viewed_count': 1332163}, {'id': 2407, 'hero': 'https://pe.tedcdn.com/images/ted/255f3dfc21f6c8a6d69324b69f0c817f41badf79_2880x1620.jpg', 'speaker': 'Achenyo Idachaba', 'title': 'How I turned a deadly plant into a thriving business', 'duration': 437, 'slug': 'achenyo_idachaba_how_i_turned_a_deadly_plant_into_a_thriving_business', 'viewed_count': 1716205}, {'id': 2065, 'hero': 'https://pe.tedcdn.com/images/ted/42a3cd377770922ead215af0ff27bfb6729857d4_2400x1800.jpg', 'speaker': 'Rose Goslinga', 'title': 'Crop insurance, an idea worth seeding', 'duration': 604, 'slug': 'rose_goslinga_crop_insurance_an_idea_worth_seeding', 'viewed_count': 554815}, {'id': 644, 'hero': 'https://pe.tedcdn.com/images/ted/118085_800x600.jpg', 'speaker': 'Jacqueline Novogratz', 'title': 'A third way to think about aid', 'duration': 1024, 'slug': 'jacqueline_novogratz_a_third_way_to_think_about_aid', 'viewed_count': 436171}, {'id': 185, 'hero': 'https://pe.tedcdn.com/images/ted/18551_480x360.jpg', 'speaker': 'Eleni Gabre-Madhin', 'title': 'A commodities exchange for Ethiopia', 'duration': 1234, 'slug': 'elene_gabre_madhin_on_ethiopian_economics', 'viewed_count': 562555}]\"\n        ],\n        \"semantic_type\": \"\",\n        \"description\": \"\"\n      }\n    },\n    {\n      \"column\": \"speaker_occupation\",\n      \"properties\": {\n        \"dtype\": \"string\",\n        \"num_unique_values\": 1458,\n        \"samples\": [\n          \"Bioelectronics innovator\\ufeff\",\n          \"Musician, blogger\",\n          \"Leadership expert\"\n        ],\n        \"semantic_type\": \"\",\n        \"description\": \"\"\n      }\n    },\n    {\n      \"column\": \"tags\",\n      \"properties\": {\n        \"dtype\": \"string\",\n        \"num_unique_values\": 2530,\n        \"samples\": [\n          \"['adventure', 'animation', 'art', 'beauty', 'collaboration', 'computers', 'design', 'discovery', 'exploration', 'history', 'innovation', 'invention', 'technology', 'visualizations']\",\n          \"['Europe', 'Internet', 'Surveillance', 'art', 'communication', 'democracy', 'government', 'intelligence', 'politics', 'security', 'technology', 'telecom']\",\n          \"['collaboration', 'entertainment', 'humor', 'physics']\"\n        ],\n        \"semantic_type\": \"\",\n        \"description\": \"\"\n      }\n    },\n    {\n      \"column\": \"title\",\n      \"properties\": {\n        \"dtype\": \"string\",\n        \"num_unique_values\": 2550,\n        \"samples\": [\n          \"How the \\\"ghost map\\\" helped end a killer disease\",\n          \"Juggle and jest\",\n          \"3 reasons why we can win the fight against poverty\"\n        ],\n        \"semantic_type\": \"\",\n        \"description\": \"\"\n      }\n    },\n    {\n      \"column\": \"url\",\n      \"properties\": {\n        \"dtype\": \"string\",\n        \"num_unique_values\": 2550,\n        \"samples\": [\n          \"https://www.ted.com/talks/steven_johnson_tours_the_ghost_map\\n\",\n          \"https://www.ted.com/talks/the_raspyni_brothers_juggle_and_jest\\n\",\n          \"https://www.ted.com/talks/andrew_youn_3_reasons_why_we_can_win_the_fight_against_poverty\\n\"\n        ],\n        \"semantic_type\": \"\",\n        \"description\": \"\"\n      }\n    },\n    {\n      \"column\": \"views\",\n      \"properties\": {\n        \"dtype\": \"number\",\n        \"std\": 2498479,\n        \"min\": 50443,\n        \"max\": 47227110,\n        \"num_unique_values\": 2550,\n        \"samples\": [\n          684519,\n          807628,\n          1173235\n        ],\n        \"semantic_type\": \"\",\n        \"description\": \"\"\n      }\n    }\n  ]\n}"
            }
          },
          "metadata": {},
          "execution_count": 12
        }
      ]
    },
    {
      "cell_type": "markdown",
      "source": [
        "## Goal 1: Ekstrak Nama Pembicara dari Judul\n",
        "Menggunakan regex untuk mengambil nama pembicara dari awal judul yang memiliki format \"Nama: Judul Talk\"."
      ],
      "metadata": {
        "id": "QS7LpVE6gSNN"
      }
    },
    {
      "cell_type": "code",
      "source": [
        "df = df.drop(columns=['name', 'speaker_from_name'])\n",
        "df = df.rename(columns={'main_speaker_title': 'speaker_title'})\n",
        "print(df.head())"
      ],
      "metadata": {
        "colab": {
          "base_uri": "https://localhost:8080/"
        },
        "id": "H-8Q7FO8jlQz",
        "outputId": "0b825a01-1617-4d32-8b11-c860e4c26bd6"
      },
      "execution_count": null,
      "outputs": [
        {
          "output_type": "stream",
          "name": "stdout",
          "text": [
            "   comments                                        description  duration  \\\n",
            "0      4553  Sir Ken Robinson makes an entertaining and pro...      1164   \n",
            "1       265  With the same humor and humanity he exuded in ...       977   \n",
            "2       124  New York Times columnist David Pogue takes aim...      1286   \n",
            "3       200  In an emotionally charged talk, MacArthur-winn...      1116   \n",
            "4       593  You've never seen data presented like this. Wi...      1190   \n",
            "\n",
            "     event   film_date  languages   main_speaker  num_speaker  published_date  \\\n",
            "0  TED2006  1140825600         60   Ken Robinson            1      1151367060   \n",
            "1  TED2006  1140825600         43        Al Gore            1      1151367060   \n",
            "2  TED2006  1140739200         26    David Pogue            1      1151367060   \n",
            "3  TED2006  1140912000         35  Majora Carter            1      1151367060   \n",
            "4  TED2006  1140566400         48   Hans Rosling            1      1151440680   \n",
            "\n",
            "                                             ratings  \\\n",
            "0  [{'id': 7, 'name': 'Funny', 'count': 19645}, {...   \n",
            "1  [{'id': 7, 'name': 'Funny', 'count': 544}, {'i...   \n",
            "2  [{'id': 7, 'name': 'Funny', 'count': 964}, {'i...   \n",
            "3  [{'id': 3, 'name': 'Courageous', 'count': 760}...   \n",
            "4  [{'id': 9, 'name': 'Ingenious', 'count': 3202}...   \n",
            "\n",
            "                                       related_talks  \\\n",
            "0  [{'id': 865, 'hero': 'https://pe.tedcdn.com/im...   \n",
            "1  [{'id': 243, 'hero': 'https://pe.tedcdn.com/im...   \n",
            "2  [{'id': 1725, 'hero': 'https://pe.tedcdn.com/i...   \n",
            "3  [{'id': 1041, 'hero': 'https://pe.tedcdn.com/i...   \n",
            "4  [{'id': 2056, 'hero': 'https://pe.tedcdn.com/i...   \n",
            "\n",
            "                     speaker_occupation  \\\n",
            "0                       Author/educator   \n",
            "1                      Climate advocate   \n",
            "2                  Technology columnist   \n",
            "3    Activist for environmental justice   \n",
            "4  Global health expert; data visionary   \n",
            "\n",
            "                                                tags  \\\n",
            "0  ['children', 'creativity', 'culture', 'dance',...   \n",
            "1  ['alternative energy', 'cars', 'climate change...   \n",
            "2  ['computers', 'entertainment', 'interface desi...   \n",
            "3  ['MacArthur grant', 'activism', 'business', 'c...   \n",
            "4  ['Africa', 'Asia', 'Google', 'demo', 'economic...   \n",
            "\n",
            "                             title  \\\n",
            "0      Do schools kill creativity?   \n",
            "1      Averting the climate crisis   \n",
            "2                 Simplicity sells   \n",
            "3              Greening the ghetto   \n",
            "4  The best stats you've ever seen   \n",
            "\n",
            "                                                 url     views  \\\n",
            "0  https://www.ted.com/talks/ken_robinson_says_sc...  47227110   \n",
            "1  https://www.ted.com/talks/al_gore_on_averting_...   3200520   \n",
            "2  https://www.ted.com/talks/david_pogue_says_sim...   1636292   \n",
            "3  https://www.ted.com/talks/majora_carter_s_tale...   1697550   \n",
            "4  https://www.ted.com/talks/hans_rosling_shows_t...  12005869   \n",
            "\n",
            "  speaker_from_title main_speaker_from_title  \\\n",
            "0                NaN                     NaN   \n",
            "1                NaN                     NaN   \n",
            "2                NaN                     NaN   \n",
            "3                NaN                     NaN   \n",
            "4                NaN                     NaN   \n",
            "\n",
            "                                       speaker_title  \n",
            "0  Ken Robinson : Ken Robinson: Do schools kill c...  \n",
            "1     Al Gore : Al Gore: Averting the climate crisis  \n",
            "2        David Pogue : David Pogue: Simplicity sells  \n",
            "3  Majora Carter : Majora Carter: Greening the gh...  \n",
            "4  Hans Rosling : Hans Rosling: The best stats yo...  \n"
          ]
        }
      ]
    },
    {
      "cell_type": "markdown",
      "source": [
        "### Goal Regex 2: Mengidentifikasi Format Tanggal Publikasi\n",
        "\n",
        "**Tujuan:** Mencari dan mengidentifikasi berbagai format tanggal publikasi yang mungkin muncul dalam data TED Talks. Meskipun kolom tanggal publikasi mungkin sudah seragam, tujuan ini adalah untuk melatih kemampuan kita dalam mengenali pola tanggal yang berbeda menggunakan Regular Expressions.\n"
      ],
      "metadata": {
        "id": "YOPRfyjCkq8n"
      }
    },
    {
      "cell_type": "markdown",
      "source": [
        "* **Pola 1:** Mencari Angka Empat Digit\n"
      ],
      "metadata": {
        "id": "U9gOyUYUsSo7"
      }
    },
    {
      "cell_type": "code",
      "source": [
        "regex_pattern_1 = r'\\b\\d{4}\\b'\n",
        "years1 = re.findall(regex_pattern_1, text_data_description)\n",
        "print(f\"Pola 1 Matches (Four-digit numbers) in description: {years1[:20]}\")"
      ],
      "metadata": {
        "colab": {
          "base_uri": "https://localhost:8080/"
        },
        "id": "1VVa_RCtsVsw",
        "outputId": "5304d7a8-6e4d-4c70-97e7-ef814172d4fe"
      },
      "execution_count": 38,
      "outputs": [
        {
          "output_type": "stream",
          "name": "stdout",
          "text": [
            "Pola 1 Matches (Four-digit numbers) in description: ['2006', '2006', '2006', '2006', '2005', '2005', '2005', '1854', '2007', '2007', '2007', '2004', '2006', '2007', '2002', '2008', '2008', '2008', '2007', '1957']\n"
          ]
        }
      ]
    },
    {
      "cell_type": "markdown",
      "source": [
        "*  **Pola 2:** Mencari Angka Empat Digit yang Diawali dengan Kata yang Mungkin Mengindikasikan Tahun"
      ],
      "metadata": {
        "id": "wxeaGTHVsajh"
      }
    },
    {
      "cell_type": "code",
      "source": [
        "regex_pattern_2 = r'(?:in|during|since|around)\\s+(\\b\\d{4}\\b)'\n",
        "years2 = re.findall(regex_pattern_2, text_data_description, re.IGNORECASE)\n",
        "print(f\"Pola 2 Matches (Years preceded by keywords) in description: {years2[:20]}\")"
      ],
      "metadata": {
        "colab": {
          "base_uri": "https://localhost:8080/"
        },
        "id": "_KqWeLDYsiGY",
        "outputId": "6a5adc1b-c093-41a0-c4f6-3cc671c5b5c9"
      },
      "execution_count": 39,
      "outputs": [
        {
          "output_type": "stream",
          "name": "stdout",
          "text": [
            "Pola 2 Matches (Years preceded by keywords) in description: ['2006', '1854', '2002', '2008', '1957', '2003', '1998', '2007', '1998', '2008', '1926', '2008', '2008', '1998', '2007', '2009', '1858', '2007', '1991', '2010']\n"
          ]
        }
      ]
    },
    {
      "cell_type": "markdown",
      "source": [
        "* **Pola 3:** Mencari Angka Empat Digit yang Mungkin Merupakan Tahun dengan Konteks Kata \"year\""
      ],
      "metadata": {
        "id": "5SaWaTajsq35"
      }
    },
    {
      "cell_type": "code",
      "source": [
        "regex_pattern_3 = r'(\\b\\d{4}\\b)\\s*year(?:s)?'\n",
        "years3 = re.findall(regex_pattern_3, text_data_description, re.IGNORECASE)\n",
        "print(f\"Pola 3 Matches (Years followed by 'year') in description: {years3[:20]}\")"
      ],
      "metadata": {
        "colab": {
          "base_uri": "https://localhost:8080/"
        },
        "id": "oakVKBpmsy-w",
        "outputId": "88cc0b83-f63e-4492-d037-77d05cd454e8"
      },
      "execution_count": 40,
      "outputs": [
        {
          "output_type": "stream",
          "name": "stdout",
          "text": [
            "Pola 3 Matches (Years followed by 'year') in description: ['2600']\n"
          ]
        }
      ]
    },
    {
      "cell_type": "markdown",
      "source": [
        "### Goal Regex 3: Mengidentifikasi Kemungkinan Nama Orang dalam Deskripsi Ted Talks\n",
        "\n",
        "**Tujuan:** Mencoba mengidentifikasi kemungkinan nama orang yang disebutkan dalam deskripsi talk menggunakan pola kapitalisasi sebagai indikator.\n"
      ],
      "metadata": {
        "id": "XUsAUhyVp5nR"
      }
    },
    {
      "cell_type": "markdown",
      "source": [
        "**Pola 1:** `r'\\b[A-Z][a-z]+\\b'`\n",
        "* **Penjelasan:** Pola ini mencari kata-kata yang diawali dengan satu huruf kapital diikuti oleh satu atau lebih huruf kecil. Ini adalah pendekatan dasar untuk mengidentifikasi kata-kata yang mungkin merupakan nama.\n",
        "* **Kode Penerapan:**"
      ],
      "metadata": {
        "id": "RHoxFDLaqH96"
      }
    },
    {
      "cell_type": "code",
      "source": [
        "import re\n",
        "text_data_description = str(df['description'].tolist())\n",
        "names1 = re.findall(r'\\b[A-Z][a-z]+\\b', text_data_description)\n",
        "print(f\"Pola 1 Matches (Capitalized words) in description: {names1[:50]}\")"
      ],
      "metadata": {
        "colab": {
          "base_uri": "https://localhost:8080/"
        },
        "id": "vob2ZSDzqDtv",
        "outputId": "26b29d30-b16b-4cec-b7a3-76329f61a120"
      },
      "execution_count": null,
      "outputs": [
        {
          "output_type": "stream",
          "name": "stdout",
          "text": [
            "Pola 1 Matches (Capitalized words) in description: ['Sir', 'Ken', 'Robinson', 'With', 'An', 'Inconvenient', 'Truth', 'Al', 'Gore', 'New', 'York', 'Times', 'David', 'Pogue', 'To', 'In', 'Majora', 'Carter', 'South', 'Bronx', 'You', 'With', 'Hans', 'Rosling', 'Tony', 'Robbins', 'Al', 'Gore', 'When', 'Mormon', 'Julia', 'Sweeney', 'Sweeney', 'Letting', 'Go', 'God', 'Architect', 'Joshua', 'Prince', 'Ramus', 'Central', 'Library', 'Seattle', 'Museum', 'Plaza', 'Louisville', 'Charles', 'Wyly', 'Theater', 'Dallas']\n"
          ]
        }
      ]
    },
    {
      "cell_type": "markdown",
      "source": [
        "**Pola 2:** `r'\\b[A-Z][a-z]+\\s+[A-Z][a-z]+\\b'`\n",
        "\n",
        "* **Penjelasan:** Pola ini mencari dua kata berdekatan yang masing-masing diawali dengan huruf kapital. Ini berpotensi lebih akurat dalam mengidentifikasi nama depan dan nama belakang."
      ],
      "metadata": {
        "id": "Exw9GwdcqLrm"
      }
    },
    {
      "cell_type": "code",
      "source": [
        "names2 = re.findall(r'\\b[A-Z][a-z]+\\s+[A-Z][a-z]+\\b', text_data_description)\n",
        "print(f\"Pola 2 Matches (Two capitalized words) in description: {names2[:50]}\")"
      ],
      "metadata": {
        "id": "Eky2DepmqdJD",
        "colab": {
          "base_uri": "https://localhost:8080/"
        },
        "outputId": "a197c810-f570-42b9-c374-5ca8470a2ad2"
      },
      "execution_count": 36,
      "outputs": [
        {
          "output_type": "stream",
          "name": "stdout",
          "text": [
            "Pola 2 Matches (Two capitalized words) in description: ['Sir Ken', 'An Inconvenient', 'Al Gore', 'New York', 'David Pogue', 'Majora Carter', 'South Bronx', 'Hans Rosling', 'Tony Robbins', 'Al Gore', 'Julia Sweeney', 'Letting Go', 'Architect Joshua', 'Central Library', 'Museum Plaza', 'Charles Wyly', 'Philosopher Dan', 'The Purpose', 'Driven Life', 'Pastor Rick', 'The Purpose', 'Driven Life', 'Cameron Sinclair', 'Jehane Noujaim', 'Larry Brilliant', 'Jeff Han', 'Nicholas Negroponte', 'Media Laboratory', 'One Laptop', 'Per Child', 'Violinist Sirena', 'Jennifer Lin', 'Amy Smith', 'Designer Ross', 'Ty Nant', 'Jimmy Wales', 'Richard Baraniuk', 'Ze Frank', 'Movable Type', 'Mena Trott', 'Anthropologist Helen', 'Eve Ensler', 'The Vagina', 'David Deutsch', 'Biologist Richard', 'Steven Levitt', 'Tipping Point', 'Malcolm Gladwell', 'Dan Gilbert', 'Psychologist Barry']\n"
          ]
        }
      ]
    },
    {
      "cell_type": "markdown",
      "source": [
        "**Pola 3:** `r'(?:Mr\\.|Ms\\.|Dr\\.|Prof\\.|)\\s*\\b[A-Z][a-z]+\\b'`\n",
        "\n",
        "* **Penjelasan:** Pola ini mencari kata-kata berkapital yang mungkin didahului oleh gelar seperti \"Mr.\", \"Ms.\", \"Dr.\", atau \"Prof.\". Ini bisa membantu mempersempit hasil ke kemungkinan nama orang dengan lebih yakin. (?:...) digunakan untuk membuat grup non-penangkap untuk gelar."
      ],
      "metadata": {
        "id": "cRSCv0XvrqZi"
      }
    },
    {
      "cell_type": "code",
      "source": [
        "names3 = re.findall(r'(?:Mr\\.|Ms\\.|Dr\\.|Prof\\.|)\\s*\\b[A-Z][a-z]+\\b', text_data_description, re.IGNORECASE)\n",
        "print(f\"Pola 3 Matches (Capitalized words preceded by titles) in description: {names3[:50]}\")"
      ],
      "metadata": {
        "colab": {
          "base_uri": "https://localhost:8080/"
        },
        "id": "ynRgzQDNrw5I",
        "outputId": "00b9ec35-6540-4269-f343-9bb3cfc8a328"
      },
      "execution_count": 37,
      "outputs": [
        {
          "output_type": "stream",
          "name": "stdout",
          "text": [
            "Pola 3 Matches (Capitalized words preceded by titles) in description: ['Sir', ' Ken', ' Robinson', ' makes', ' an', ' entertaining', ' and', ' profoundly', ' moving', ' case', ' for', ' creating', ' an', ' education', ' system', ' that', ' nurtures', 'rather', ' than', ' undermines', ' creativity', 'With', ' the', ' same', ' humor', ' and', ' humanity', ' he', ' exuded', ' in', 'An', ' Inconvenient', ' Truth', ' Al', ' Gore', ' spells', ' out', ' ways', ' that', ' individuals', ' can', ' address', ' climate', ' change', ' immediately', ' from', ' buying', ' hybrid', ' to', ' inventing']\n"
          ]
        }
      ]
    },
    {
      "cell_type": "markdown",
      "source": [
        "### Goal Regex 4: Mengidentifikasi Pertanyaan dalam Deskripsi Ted Talks\n",
        "\n",
        "**Tujuan:** Mencari dan mengidentifikasi kalimat atau frasa dalam deskripsi talk yang kemungkinan merupakan pertanyaan, menggunakan tanda tanya dan kata tanya sebagai indikator."
      ],
      "metadata": {
        "id": "vOMK7fpJtSx1"
      }
    },
    {
      "cell_type": "markdown",
      "source": [
        "**Pola 1:** `r'[^.?!]*\\?'`\n",
        "\n",
        "* **Penjelasan:** Pola ini mencari nol atau lebih karakter yang bukan titik (`.`), tanda tanya (`?`), atau tanda seru (`!`), diikuti oleh tanda tanya (`?`). Tujuannya adalah untuk menangkap seluruh kalimat yang berakhir dengan tanda tanya."
      ],
      "metadata": {
        "id": "pekuO3vBtUA-"
      }
    },
    {
      "cell_type": "code",
      "source": [
        "import re\n",
        "text_data_description = str(df['description'].tolist())\n",
        "questions1 = re.findall(r'[^.?!]*\\?', text_data_description)\n",
        "print(f\"Pola 1 Matches (Sentences ending with '?') in description: {questions1[:20]}\")"
      ],
      "metadata": {
        "colab": {
          "base_uri": "https://localhost:8080/"
        },
        "id": "eUaTeMNltXap",
        "outputId": "c1d9e3ab-f257-4c24-c830-f4037889d52d"
      },
      "execution_count": 41,
      "outputs": [
        {
          "output_type": "stream",
          "name": "stdout",
          "text": [
            "Pola 1 Matches (Sentences ending with '?') in description: ['\\', \\'Why do people see the Virgin Mary on a cheese sandwich or hear demonic lyrics in \"Stairway to Heaven\"?', '\\', \\'Tech enthusiast Kevin Kelly asks \"What does technology want?', '\\', \"Why do people succeed?', \" Is it because they're smart?\", ' Or are they just lucky?', 'com into 3-minute poem worthy of a standing ovation?', \"', 'Given $50 billion to spend, which would you solve first, AIDS or global warming?\", '\" Does it trace the birth of a relationship?', ' Or the co-evolution of symbiotic species?', ' Tom Honey pondered the question, \"How could a loving God have done this?', '\", \\'What happens when a black man visits Aspen?', ' Why?', '\\', \"Is the beloved paper dictionary doomed to extinction?', '\", \\'How might the human race end?', ' Will we be wiped out by an asteroid?', ' Eco-collapse?', ' How about a particle collider gone wild?', \"', 'What is happiness, and how can we all get some?\", '\", \\'Environmental scientist David Keith proposes a cheap, effective, shocking means to address climate change: What if we injected a huge cloud of ash into the atmosphere to deflect sunlight and heat?', '\", \\'Designer Philippe Starck -- with no pretty slides to show -- spends 18 minutes reaching for the very roots of the question \"Why design?']\n"
          ]
        }
      ]
    },
    {
      "cell_type": "markdown",
      "source": [
        "**Pola 2:** `r'\\b(Who|What|When|Where|Why|How|Is|Are|Do|Does|Can|Could|Would|Should)\\b[^.?!]*\\?'`\n",
        "\n",
        "* **Penjelasan:** Pola ini mencari kata-kata tanya umum (Who, What, When, Where, Why, How, Is, Are, Do, Does, Can, Could, Would, Should) di awal sebuah \"kata\" (\\b word boundary), diikuti oleh nol atau lebih karakter bukan '.', '?', '!', dan diakhiri dengan tanda tanya. Ini bertujuan untuk menemukan pertanyaan yang dimulai dengan kata tanya."
      ],
      "metadata": {
        "id": "wmnUXO--tbtF"
      }
    },
    {
      "cell_type": "code",
      "source": [
        "questions2 = re.findall(r'\\b(Who|What|When|Where|Why|How|Is|Are|Do|Does|Can|Could|Would|Should)\\b[^.?!]*\\?', text_data_description, re.IGNORECASE)\n",
        "print(f\"Pola 2 Matches (Questions starting with question words) in description: {questions2[:20]}\")"
      ],
      "metadata": {
        "colab": {
          "base_uri": "https://localhost:8080/"
        },
        "id": "Tvj63mIBtqX3",
        "outputId": "d95b08db-719c-435f-d5fd-51f23f6de734"
      },
      "execution_count": 42,
      "outputs": [
        {
          "output_type": "stream",
          "name": "stdout",
          "text": [
            "Pola 2 Matches (Questions starting with question words) in description: ['Why', 'What', 'Why', 'Is', 'are', 'would', 'Does', 'How', 'What', 'Why', 'Is', 'How', 'How', 'What', 'What', 'Why', 'Are', 'How', 'How', 'what']\n"
          ]
        }
      ]
    },
    {
      "cell_type": "markdown",
      "source": [
        "**Pola 3:** `r'[^.?!]*(Who|What|When|Where|Why|How|Is|Are|Do|Does|Can|Could|Would|Should)[^.?!]*\\?'`\n",
        "\n",
        "* **Penjelasan:** Pola ini mencari kalimat yang mengandung salah satu kata tanya umum di mana saja sebelum tanda tanya. Ini bertujuan untuk menangkap pertanyaan meskipun kata tanyanya tidak berada di awal kalimat."
      ],
      "metadata": {
        "id": "epIUk5-TtwCO"
      }
    },
    {
      "cell_type": "code",
      "source": [
        "questions3 = re.findall(r'[^.?!]*(Who|What|When|Where|Why|How|Is|Are|Do|Does|Can|Could|Would|Should)[^.?!]*\\?', text_data_description, re.IGNORECASE)\n",
        "print(f\"Pola 3 Matches (Questions containing question words) in description: {questions3[:20]}\")"
      ],
      "metadata": {
        "colab": {
          "base_uri": "https://localhost:8080/"
        },
        "id": "d0sCj0ESt38B",
        "outputId": "2ae4b98d-6921-43be-ffd6-7945e75ed214"
      },
      "execution_count": 43,
      "outputs": [
        {
          "output_type": "stream",
          "name": "stdout",
          "text": [
            "Pola 3 Matches (Questions containing question words) in description: ['do', 'do', 'do', 'Is', 'are', 'would', 'Do', 'is', 'is', 'Why', 'do', 'How', 'How', 'can', 'What', 'Why', 'Are', 'do', 'is', 'what']\n"
          ]
        }
      ]
    },
    {
      "cell_type": "markdown",
      "source": [
        "### Goal Regex 5: Mengidentifikasi Pola yang Berkaitan dengan Teknologi atau Inovasi dalam Deskripsi Ted Talks\n",
        "\n",
        "**Tujuan:** Mencari kata-kata dan frasa dalam deskripsi talk yang sering muncul dalam diskusi mengenai teknologi atau inovasi."
      ],
      "metadata": {
        "id": "ISwVwP1bv7ni"
      }
    },
    {
      "cell_type": "markdown",
      "source": [
        "**Pola 1:** `r'\\b(technology|innovation|AI|digital|future|new|invention)\\b'`\n",
        "\n",
        "* **Penjelasan:** Pola ini mencari kata-kata kunci yang secara langsung berkaitan dengan teknologi atau inovasi sebagai kata utuh (dibatasi oleh word boundaries `\\b`). Ini akan menangkap kemunculan kata-kata ini secara independen."
      ],
      "metadata": {
        "id": "1PpwigCUv8jO"
      }
    },
    {
      "cell_type": "code",
      "source": [
        "import re\n",
        "text_data_description = str(df['description'].tolist())\n",
        "tech_innovation1 = re.findall(r'\\b(technology|innovation|AI|digital|future|new|invention)\\b', text_data_description, re.IGNORECASE)\n",
        "print(f\"Pola 1 Matches (Technology/Innovation Keywords): {tech_innovation1[:50]}\")"
      ],
      "metadata": {
        "colab": {
          "base_uri": "https://localhost:8080/"
        },
        "id": "IzUCxyv6wDIX",
        "outputId": "c4251770-25f3-4504-9221-1166a04c4d11"
      },
      "execution_count": 46,
      "outputs": [
        {
          "output_type": "stream",
          "name": "stdout",
          "text": [
            "Pola 1 Matches (Technology/Innovation Keywords): ['new', 'New', 'technology', 'new', 'new', 'New', 'new', 'new', 'future', 'new', 'technology', 'innovation', 'future', 'innovation', 'new', 'digital', 'digital', 'future', 'future', 'technology', 'technology', 'technology', 'innovation', 'new', 'New', 'new', 'digital', 'new', 'technology', 'technology', 'New', 'technology', 'future', 'New', 'New', 'future', 'future', 'new', 'digital', 'future', 'new', 'new', 'digital', 'new', 'New', 'new', 'new', 'new', 'technology', 'new']\n"
          ]
        }
      ]
    },
    {
      "cell_type": "markdown",
      "source": [
        "**Pola 2:** `r'the\\s+future\\s+of\\s+\\w+'`\n",
        "\n",
        "* **Penjelasan:** Pola ini mencari frasa yang umum digunakan ketika membahas masa depan suatu bidang, yaitu \"the future of\" diikuti oleh satu atau lebih karakter kata (\\w+)."
      ],
      "metadata": {
        "id": "F9BXjBY3wHSv"
      }
    },
    {
      "cell_type": "code",
      "source": [
        "tech_innovation2 = re.findall(r'the\\s+future\\s+of\\s+\\w+', text_data_description, re.IGNORECASE)\n",
        "print(f\"Pola 2 Matches ('the future of ...'): {tech_innovation2[:20]}\")"
      ],
      "metadata": {
        "colab": {
          "base_uri": "https://localhost:8080/"
        },
        "id": "YmLOwBqKwfaI",
        "outputId": "c99296c5-2d78-47b7-9808-2e6b89611d2d"
      },
      "execution_count": 47,
      "outputs": [
        {
          "output_type": "stream",
          "name": "stdout",
          "text": [
            "Pola 2 Matches ('the future of ...'): ['the future of Afghanistan', 'the future of humankind', 'the future of making', 'the future of personal', 'the future of Iran', 'The future of green', 'the future of media', 'the future of music', 'the future of mobility', 'the future of investigative', 'the future of large', 'the future of computers', 'the future of jet', 'the future of business', 'the future of sports', 'the future of big', 'the future of politics', 'the future of food', 'the future of the', 'the future of farming']\n"
          ]
        }
      ]
    },
    {
      "cell_type": "markdown",
      "source": [
        "**Pola 3:** `r'\\b(cutting-edge|groundbreaking|novel)\\s+\\w+'`\n",
        "\n",
        "* **Penjelasan:** Pola ini mencari kata sifat yang sering digunakan untuk menggambarkan teknologi atau inovasi (\"cutting-edge\", \"groundbreaking\", \"novel\") diikuti oleh satu atau lebih spasi dan satu atau lebih karakter kata. Ini bertujuan untuk menemukan deskripsi inovasi."
      ],
      "metadata": {
        "id": "BlnO4pxmwoCH"
      }
    },
    {
      "cell_type": "code",
      "source": [
        "tech_innovation3 = re.findall(r'\\b(cutting-edge|groundbreaking|novel)\\s+\\w+', text_data_description, re.IGNORECASE)\n",
        "print(f\"Pola 3 Matches (adjective + noun related to innovation): {tech_innovation3[:20]}\")"
      ],
      "metadata": {
        "colab": {
          "base_uri": "https://localhost:8080/"
        },
        "id": "uDSoYdyfwzAd",
        "outputId": "1854eddb-f537-43c7-ad99-a9f6ea3cf33b"
      },
      "execution_count": 48,
      "outputs": [
        {
          "output_type": "stream",
          "name": "stdout",
          "text": [
            "Pola 3 Matches (adjective + noun related to innovation): ['groundbreaking', 'groundbreaking', 'groundbreaking', 'groundbreaking', 'groundbreaking', 'groundbreaking', 'novel', 'groundbreaking', 'groundbreaking', 'groundbreaking', 'cutting-edge', 'groundbreaking', 'cutting-edge', 'cutting-edge', 'novel', 'novel', 'groundbreaking', 'groundbreaking', 'groundbreaking', 'novel']\n"
          ]
        }
      ]
    },
    {
      "cell_type": "markdown",
      "source": [
        "DOWNSTREAM ANALYSIS"
      ],
      "metadata": {
        "id": "1r7dq8TOyKvX"
      }
    },
    {
      "cell_type": "code",
      "source": [
        "import re\n",
        "from collections import Counter\n",
        "\n",
        "# Asumsi 'df' sudah dimuat dan 'text_data_description' sudah dibuat\n",
        "\n",
        "# Jalankan kembali Pola 3 dari Goal Regex 5 (jika belum tersimpan)\n",
        "metaphors3 = re.findall(r'(\\w+)\\s+like\\s+(\\w+)', text_data_description, re.IGNORECASE)\n",
        "\n",
        "# Ekstrak kata-kata setelah 'like' (indeks 1 dari setiap tuple)\n",
        "compared_to_like = [match[1] for match in metaphors3]\n",
        "\n",
        "# Hitung frekuensi kata-kata\n",
        "like_word_counts = Counter(compared_to_like)\n",
        "\n",
        "# Dapatkan 20 kata yang paling sering muncul\n",
        "top_20_like_words = like_word_counts.most_common(20)\n",
        "\n",
        "print(\"\\nDownstream Analysis: Top 20 Kata yang Dibandingkan dengan 'like'\")\n",
        "for word, count in top_20_like_words:\n",
        "    print(f\"{word}: {count}\")"
      ],
      "metadata": {
        "colab": {
          "base_uri": "https://localhost:8080/"
        },
        "id": "oRzaKSDFyOy1",
        "outputId": "d8b3c693-de10-43e4-c361-fd73fcdd616e"
      },
      "execution_count": 49,
      "outputs": [
        {
          "output_type": "stream",
          "name": "stdout",
          "text": [
            "\n",
            "Downstream Analysis: Top 20 Kata yang Dibandingkan dengan 'like'\n",
            "a: 21\n",
            "to: 18\n",
            "the: 17\n",
            "this: 5\n",
            "it: 4\n",
            "you: 4\n",
            "when: 4\n",
            "these: 3\n",
            "and: 3\n",
            "if: 2\n",
            "nature: 2\n",
            "an: 2\n",
            "in: 2\n",
            "Airbnb: 2\n",
            "paper: 2\n",
            "our: 2\n",
            "Edith: 1\n",
            "Wikipedia: 1\n",
            "light: 1\n",
            "planets: 1\n"
          ]
        }
      ]
    }
  ]
}